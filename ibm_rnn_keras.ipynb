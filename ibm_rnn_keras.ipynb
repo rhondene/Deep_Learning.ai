{
 "cells": [
  {
   "cell_type": "markdown",
   "metadata": {},
   "source": [
    "Rhondene Wint\n",
    "Oct 2018\n",
    "## Implementing Deep learning applications in Keras (IBM Coursera)\n",
    "\n",
    "Gone are the days when I had code each layer scratch and doing all sorts of winded sanity checks..mwah hahahaha!"
   ]
  },
  {
   "cell_type": "code",
   "execution_count": 7,
   "metadata": {},
   "outputs": [],
   "source": [
    "import tensorflow\n",
    "import keras\n",
    "import pandas \n",
    "import numpy"
   ]
  },
  {
   "cell_type": "code",
   "execution_count": 2,
   "metadata": {},
   "outputs": [],
   "source": [
    "import keras"
   ]
  },
  {
   "cell_type": "markdown",
   "metadata": {},
   "source": [
    "## Sentiment classification of  movie reviews from imbdb us LSTM\n",
    "\n",
    "- Need an <b> embedding layer </b> which is used in the first layer. The embedding layer transforms integers to vectors of the same length. In this case, we want to embed a vocabulary into vector space which then fed to LSTM model\n",
    "\n",
    "\n",
    "<p> Data Space </p>\n",
    "- 25,00 movie revies from IMDB, labelled good or bad\n",
    "- Data is available from keras.datasets\n",
    "- Data is preprocessed as sequences of integers\n",
    "- Task: classify sentiment from review content\n",
    "Embed sentences with embedding layer --> learn sentence structure wth LSTM"
   ]
  },
  {
   "cell_type": "code",
   "execution_count": 8,
   "metadata": {},
   "outputs": [],
   "source": [
    "from keras.layers.recurrent import LSTM\n",
    "from keras.layers import Dense, Embedding\n",
    "from keras.datasets import imdb\n",
    "from keras.models import Sequential"
   ]
  },
  {
   "cell_type": "code",
   "execution_count": 4,
   "metadata": {},
   "outputs": [],
   "source": [
    "max_features = 20000 #20,000 most common from vocabulary\n",
    "maxlen = 80   #\n",
    "#load imdb into memory \n",
    "(x_train, y_train), (x_test, y_test)=imdb.load_data(num_words=max_features)"
   ]
  },
  {
   "cell_type": "code",
   "execution_count": 6,
   "metadata": {},
   "outputs": [],
   "source": [
    "x_train[0];"
   ]
  },
  {
   "cell_type": "code",
   "execution_count": 9,
   "metadata": {},
   "outputs": [],
   "source": [
    "##preprocessing, padding to get on same length\n",
    "from keras.preprocessing import sequence\n",
    "x_train= sequence.pad_sequences(x_train, maxlen=maxlen)\n",
    "x_test = sequence.pad_sequences(x_test, maxlen=maxlen)"
   ]
  },
  {
   "cell_type": "code",
   "execution_count": 13,
   "metadata": {},
   "outputs": [],
   "source": [
    "#instantiate and build model\n",
    "model=Sequential()\n",
    "model.add(Embedding(max_features, 128))\n",
    "model.add(LSTM(128, dropout=0.2, recurrent_dropout=0.2))\n",
    "model.add(Dense(1, activation='sigmoid')) #FNN classier"
   ]
  },
  {
   "cell_type": "code",
   "execution_count": 14,
   "metadata": {
    "scrolled": false
   },
   "outputs": [],
   "source": [
    "##compile the moodel with loss function and optimizer\n",
    "model.compile(loss='binary_crossentropy',\n",
    "             optimizer='sgd',\n",
    "             metrics=['accuracy'])"
   ]
  },
  {
   "cell_type": "code",
   "execution_count": 15,
   "metadata": {},
   "outputs": [
    {
     "name": "stdout",
     "output_type": "stream",
     "text": [
      "Train on 25000 samples, validate on 25000 samples\n",
      "Epoch 1/15\n",
      "25000/25000 [==============================] - 128s 5ms/step - loss: 0.6932 - acc: 0.5025 - val_loss: 0.6931 - val_acc: 0.5029\n",
      "Epoch 2/15\n",
      "25000/25000 [==============================] - 124s 5ms/step - loss: 0.6930 - acc: 0.5076 - val_loss: 0.6930 - val_acc: 0.5001\n",
      "Epoch 3/15\n",
      "25000/25000 [==============================] - 124s 5ms/step - loss: 0.6928 - acc: 0.5158 - val_loss: 0.6927 - val_acc: 0.5352\n",
      "Epoch 4/15\n",
      "25000/25000 [==============================] - 124s 5ms/step - loss: 0.6926 - acc: 0.5250 - val_loss: 0.6925 - val_acc: 0.5265\n",
      "Epoch 5/15\n",
      "25000/25000 [==============================] - 125s 5ms/step - loss: 0.6924 - acc: 0.5321 - val_loss: 0.6923 - val_acc: 0.5356\n",
      "Epoch 6/15\n",
      "25000/25000 [==============================] - 125s 5ms/step - loss: 0.6921 - acc: 0.5372 - val_loss: 0.6920 - val_acc: 0.5428\n",
      "Epoch 7/15\n",
      "25000/25000 [==============================] - 125s 5ms/step - loss: 0.6918 - acc: 0.5354 - val_loss: 0.6920 - val_acc: 0.5057\n",
      "Epoch 8/15\n",
      "25000/25000 [==============================] - 125s 5ms/step - loss: 0.6916 - acc: 0.5538 - val_loss: 0.6915 - val_acc: 0.5281\n",
      "Epoch 9/15\n",
      "25000/25000 [==============================] - 125s 5ms/step - loss: 0.6912 - acc: 0.5594 - val_loss: 0.6911 - val_acc: 0.5592\n",
      "Epoch 10/15\n",
      "25000/25000 [==============================] - 125s 5ms/step - loss: 0.6908 - acc: 0.5646 - val_loss: 0.6908 - val_acc: 0.5611\n",
      "Epoch 11/15\n",
      "25000/25000 [==============================] - 125s 5ms/step - loss: 0.6903 - acc: 0.5651 - val_loss: 0.6903 - val_acc: 0.5619\n",
      "Epoch 12/15\n",
      "25000/25000 [==============================] - 125s 5ms/step - loss: 0.6897 - acc: 0.5714 - val_loss: 0.6897 - val_acc: 0.5876\n",
      "Epoch 13/15\n",
      "25000/25000 [==============================] - 125s 5ms/step - loss: 0.6891 - acc: 0.5870 - val_loss: 0.6890 - val_acc: 0.5938\n",
      "Epoch 14/15\n",
      "25000/25000 [==============================] - 125s 5ms/step - loss: 0.6883 - acc: 0.5873 - val_loss: 0.6881 - val_acc: 0.5961\n",
      "Epoch 15/15\n",
      "25000/25000 [==============================] - 126s 5ms/step - loss: 0.6872 - acc: 0.5924 - val_loss: 0.6870 - val_acc: 0.5962\n"
     ]
    },
    {
     "data": {
      "text/plain": [
       "<keras.callbacks.History at 0x234d7c18>"
      ]
     },
     "execution_count": 15,
     "metadata": {},
     "output_type": "execute_result"
    }
   ],
   "source": [
    "##fit the model to data now\n",
    "model.fit(x_train, y_train,\n",
    "         batch_size=32,\n",
    "         epochs=15,\n",
    "         validation_data=(x_test, y_test))"
   ]
  },
  {
   "cell_type": "code",
   "execution_count": 16,
   "metadata": {},
   "outputs": [
    {
     "name": "stdout",
     "output_type": "stream",
     "text": [
      "25000/25000 [==============================] - 22s 888us/step\n"
     ]
    },
    {
     "data": {
      "text/plain": [
       "[0.6870271743774414, 0.59624]"
      ]
     },
     "execution_count": 16,
     "metadata": {},
     "output_type": "execute_result"
    }
   ],
   "source": [
    "##evaluate the model\n",
    "model.evaluate(x_test, y_test, batch_size=32)"
   ]
  },
  {
   "cell_type": "markdown",
   "metadata": {},
   "source": [
    "oct 21\n",
    "# Using Autoencoder with Word2Vec\n"
   ]
  },
  {
   "cell_type": "code",
   "execution_count": 9,
   "metadata": {},
   "outputs": [],
   "source": [
    "from keras.models import Sequential\n",
    "from keras.layers import Dense, Embedding,Flatten, Input\n",
    "from keras.preprocessing.text import one_hot\n",
    "from keras.optimizers import Adam\n",
    "from sklearn.preprocessing import OneHotEncoder"
   ]
  },
  {
   "cell_type": "code",
   "execution_count": 10,
   "metadata": {},
   "outputs": [],
   "source": [
    "#define document with 5 sentences,\n",
    "docs = ['king is a man', 'a queen is a woman', 'king marries queen','you on some bullshit','queen marries king']"
   ]
  },
  {
   "cell_type": "code",
   "execution_count": 11,
   "metadata": {},
   "outputs": [],
   "source": [
    "vocab_size = 50 #this systme will support 50 unique words, IRL it's 100Ks english words"
   ]
  },
  {
   "cell_type": "code",
   "execution_count": 13,
   "metadata": {},
   "outputs": [],
   "source": [
    "##convert the words to unique integers\n",
    "oh = numpy.array(one_hot('king queen man unrelated', vocab_size)).reshape(-1,1)"
   ]
  },
  {
   "cell_type": "code",
   "execution_count": 14,
   "metadata": {
    "scrolled": true
   },
   "outputs": [
    {
     "data": {
      "text/plain": [
       "array([[15],\n",
       "       [22],\n",
       "       [48],\n",
       "       [21]])"
      ]
     },
     "execution_count": 14,
     "metadata": {},
     "output_type": "execute_result"
    }
   ],
   "source": [
    "oh"
   ]
  },
  {
   "cell_type": "code",
   "execution_count": 17,
   "metadata": {
    "scrolled": true
   },
   "outputs": [
    {
     "data": {
      "text/plain": [
       "array([[0., 0., 0., 0., 0., 0., 0., 0., 0., 0., 0., 0., 0., 0., 0., 1.,\n",
       "        0., 0., 0., 0., 0., 0., 0., 0., 0., 0., 0., 0., 0., 0., 0., 0.,\n",
       "        0., 0., 0., 0., 0., 0., 0., 0., 0., 0., 0., 0., 0., 0., 0., 0.,\n",
       "        0., 0.],\n",
       "       [0., 0., 0., 0., 0., 0., 0., 0., 0., 0., 0., 0., 0., 0., 0., 0.,\n",
       "        0., 0., 0., 0., 0., 0., 1., 0., 0., 0., 0., 0., 0., 0., 0., 0.,\n",
       "        0., 0., 0., 0., 0., 0., 0., 0., 0., 0., 0., 0., 0., 0., 0., 0.,\n",
       "        0., 0.],\n",
       "       [0., 0., 0., 0., 0., 0., 0., 0., 0., 0., 0., 0., 0., 0., 0., 0.,\n",
       "        0., 0., 0., 0., 0., 0., 0., 0., 0., 0., 0., 0., 0., 0., 0., 0.,\n",
       "        0., 0., 0., 0., 0., 0., 0., 0., 0., 0., 0., 0., 0., 0., 0., 0.,\n",
       "        1., 0.],\n",
       "       [0., 0., 0., 0., 0., 0., 0., 0., 0., 0., 0., 0., 0., 0., 0., 0.,\n",
       "        0., 0., 0., 0., 0., 1., 0., 0., 0., 0., 0., 0., 0., 0., 0., 0.,\n",
       "        0., 0., 0., 0., 0., 0., 0., 0., 0., 0., 0., 0., 0., 0., 0., 0.,\n",
       "        0., 0.]])"
      ]
     },
     "execution_count": 17,
     "metadata": {},
     "output_type": "execute_result"
    }
   ],
   "source": [
    "##now apply actual Onehot to return sparse representation of words\n",
    "enc = OneHotEncoder()\n",
    "enc.fit(numpy.array(range(50)).reshape(-1,1))\n",
    "oh_enc = enc.transform(oh).toarray()\n",
    "oh_enc"
   ]
  },
  {
   "cell_type": "code",
   "execution_count": 18,
   "metadata": {},
   "outputs": [
    {
     "data": {
      "text/plain": [
       "[[15, 10, 27, 48],\n",
       " [27, 22, 10, 27, 14],\n",
       " [15, 26, 22],\n",
       " [27, 25, 10, 27],\n",
       " [22, 26, 15]]"
      ]
     },
     "execution_count": 18,
     "metadata": {},
     "output_type": "execute_result"
    }
   ],
   "source": [
    "##let's do for the actual wordsb\n",
    "encoded_docs = [one_hot(d,vocab_size) for d in docs]\n",
    "encoded_docs"
   ]
  },
  {
   "cell_type": "markdown",
   "metadata": {},
   "source": [
    "each element is a sentence in this multidimensional array is a sentence and each integer is a word \n",
    "for example number 15 is is 'king' which is found in 1st and 3rd sentences"
   ]
  },
  {
   "cell_type": "code",
   "execution_count": 21,
   "metadata": {},
   "outputs": [],
   "source": [
    "##padding to make sentences same lenght\n",
    "from keras.preprocessing.sequence import pad_sequences\n",
    "max_len = 24\n",
    "padded_docs = pad_sequences(encoded_docs,maxlen=max_len, padding='post')"
   ]
  },
  {
   "cell_type": "code",
   "execution_count": 26,
   "metadata": {
    "collapsed": true
   },
   "outputs": [
    {
     "name": "stdout",
     "output_type": "stream",
     "text": [
      "(46, 2)\n"
     ]
    },
    {
     "data": {
      "text/plain": [
       "array([[15., 10.],\n",
       "       [15., 27.],\n",
       "       [10., 27.],\n",
       "       [10., 48.],\n",
       "       [10., 15.],\n",
       "       [27., 48.],\n",
       "       [27., 10.],\n",
       "       [27., 15.],\n",
       "       [48., 27.],\n",
       "       [48., 10.],\n",
       "       [27., 22.],\n",
       "       [27., 10.],\n",
       "       [22., 10.],\n",
       "       [22., 27.],\n",
       "       [22., 27.],\n",
       "       [10., 27.],\n",
       "       [10., 14.],\n",
       "       [10., 22.],\n",
       "       [10., 27.],\n",
       "       [27., 14.],\n",
       "       [27., 10.],\n",
       "       [27., 22.],\n",
       "       [14., 27.],\n",
       "       [14., 10.],\n",
       "       [15., 26.],\n",
       "       [15., 22.],\n",
       "       [26., 22.],\n",
       "       [26., 15.],\n",
       "       [22., 26.],\n",
       "       [22., 15.],\n",
       "       [27., 25.],\n",
       "       [27., 10.],\n",
       "       [25., 10.],\n",
       "       [25., 27.],\n",
       "       [25., 27.],\n",
       "       [10., 27.],\n",
       "       [10., 25.],\n",
       "       [10., 27.],\n",
       "       [27., 10.],\n",
       "       [27., 25.],\n",
       "       [22., 26.],\n",
       "       [22., 15.],\n",
       "       [26., 15.],\n",
       "       [26., 22.],\n",
       "       [15., 26.],\n",
       "       [15., 22.]])"
      ]
     },
     "execution_count": 26,
     "metadata": {},
     "output_type": "execute_result"
    }
   ],
   "source": [
    "##create tuples of related words based on neigbours of the words..usefule for my codon analysis \n",
    "tuples = numpy.empty((0,2))\n",
    "for padded_doc in padded_docs:\n",
    "    length = len(padded_doc)\n",
    "    for i in range(length):\n",
    "        if padded_doc[i] != 0:\n",
    "            if i< length-1 & padded_doc[i+1]!=0:\n",
    "                tuples = numpy.append(tuples,[[padded_doc[i], padded_doc[i+1]]], axis=0)\n",
    "                if i<length-2 & padded_doc[i+2]!=0:\n",
    "                    tuples = numpy.append(tuples, [[padded_doc[i], padded_doc[i+2]]], axis=0)\n",
    "            if i >0:\n",
    "                tuples = numpy.append(tuples, [[padded_doc[i], padded_doc[i-1]]], axis=0)\n",
    "            if i>1:\n",
    "                tuples = numpy.append(tuples, [[padded_doc[i], padded_doc[i-2]]], axis=0)\n",
    "print(tuples.shape)\n",
    "tuples"
   ]
  },
  {
   "cell_type": "code",
   "execution_count": 27,
   "metadata": {},
   "outputs": [
    {
     "name": "stdout",
     "output_type": "stream",
     "text": [
      "(46, 50)\n"
     ]
    }
   ],
   "source": [
    "##onehot encode the first dimension of the tuple as input X \n",
    "onehotlabels_x = enc.transform(tuples[:,0].reshape(-1,1)).toarray()\n",
    "print(onehotlabels_x.shape)"
   ]
  },
  {
   "cell_type": "code",
   "execution_count": 28,
   "metadata": {},
   "outputs": [
    {
     "name": "stdout",
     "output_type": "stream",
     "text": [
      "(46, 50)\n"
     ]
    }
   ],
   "source": [
    "##onehot encode the first dimension of the tuple as y, this is what we want to predict \n",
    "onehotlabels_y = enc.transform(tuples[:,1].reshape(-1,1)).toarray()\n",
    "print(onehotlabels_y.shape)"
   ]
  },
  {
   "cell_type": "code",
   "execution_count": 35,
   "metadata": {},
   "outputs": [
    {
     "name": "stdout",
     "output_type": "stream",
     "text": [
      "_________________________________________________________________\n",
      "Layer (type)                 Output Shape              Param #   \n",
      "=================================================================\n",
      "dense_4 (Dense)              (None, 50)                2550      \n",
      "_________________________________________________________________\n",
      "dense_5 (Dense)              (None, 2)                 102       \n",
      "_________________________________________________________________\n",
      "dense_6 (Dense)              (None, 50)                150       \n",
      "=================================================================\n",
      "Total params: 2,802\n",
      "Trainable params: 2,802\n",
      "Non-trainable params: 0\n",
      "_________________________________________________________________\n",
      "None\n",
      "Epoch 1/25\n",
      "46/46 [==============================] - 3s 67ms/step - loss: 0.0982 - acc: 0.9800\n",
      "Epoch 2/25\n",
      "46/46 [==============================] - 0s 489us/step - loss: 0.0981 - acc: 0.9800\n",
      "Epoch 3/25\n",
      "46/46 [==============================] - 0s 163us/step - loss: 0.0980 - acc: 0.9800\n",
      "Epoch 4/25\n",
      "46/46 [==============================] - 0s 272us/step - loss: 0.0979 - acc: 0.9800\n",
      "Epoch 5/25\n",
      "46/46 [==============================] - 0s 163us/step - loss: 0.0978 - acc: 0.9800\n",
      "Epoch 6/25\n",
      "46/46 [==============================] - 0s 163us/step - loss: 0.0977 - acc: 0.9800\n",
      "Epoch 7/25\n",
      "46/46 [==============================] - 0s 163us/step - loss: 0.0976 - acc: 0.9800\n",
      "Epoch 8/25\n",
      "46/46 [==============================] - 0s 217us/step - loss: 0.0975 - acc: 0.9800\n",
      "Epoch 9/25\n",
      "46/46 [==============================] - 0s 217us/step - loss: 0.0975 - acc: 0.9800\n",
      "Epoch 10/25\n",
      "46/46 [==============================] - 0s 163us/step - loss: 0.0974 - acc: 0.9800\n",
      "Epoch 11/25\n",
      "46/46 [==============================] - 0s 652us/step - loss: 0.0973 - acc: 0.9800\n",
      "Epoch 12/25\n",
      "46/46 [==============================] - 0s 109us/step - loss: 0.0972 - acc: 0.9800\n",
      "Epoch 13/25\n",
      "46/46 [==============================] - 0s 109us/step - loss: 0.0971 - acc: 0.9800\n",
      "Epoch 14/25\n",
      "46/46 [==============================] - 0s 217us/step - loss: 0.0970 - acc: 0.9800\n",
      "Epoch 15/25\n",
      "46/46 [==============================] - 0s 163us/step - loss: 0.0970 - acc: 0.9800\n",
      "Epoch 16/25\n",
      "46/46 [==============================] - 0s 109us/step - loss: 0.0969 - acc: 0.9800\n",
      "Epoch 17/25\n",
      "46/46 [==============================] - 0s 163us/step - loss: 0.0968 - acc: 0.9800\n",
      "Epoch 18/25\n",
      "46/46 [==============================] - 0s 163us/step - loss: 0.0967 - acc: 0.9800\n",
      "Epoch 19/25\n",
      "46/46 [==============================] - 0s 163us/step - loss: 0.0966 - acc: 0.9800\n",
      "Epoch 20/25\n",
      "46/46 [==============================] - 0s 163us/step - loss: 0.0965 - acc: 0.9800\n",
      "Epoch 21/25\n",
      "46/46 [==============================] - 0s 163us/step - loss: 0.0964 - acc: 0.9800\n",
      "Epoch 22/25\n",
      "46/46 [==============================] - 0s 109us/step - loss: 0.0963 - acc: 0.9800\n",
      "Epoch 23/25\n",
      "46/46 [==============================] - 0s 109us/step - loss: 0.0962 - acc: 0.9800\n",
      "Epoch 24/25\n",
      "46/46 [==============================] - 0s 109us/step - loss: 0.0961 - acc: 0.9800\n",
      "Epoch 25/25\n",
      "46/46 [==============================] - 0s 109us/step - loss: 0.0960 - acc: 0.9800\n"
     ]
    },
    {
     "data": {
      "text/plain": [
       "<keras.callbacks.History at 0x11f61a20>"
      ]
     },
     "execution_count": 35,
     "metadata": {},
     "output_type": "execute_result"
    }
   ],
   "source": [
    "##build and compile the model\n",
    "\n",
    "model= Sequential()\n",
    "\n",
    "input = Dense(50, input_shape=(50,), activation='relu')  #iunput layer\n",
    "model.add(input)\n",
    "bottleneck= Dense(2, activation='relu')   #low-dimensional representation of the word embedding \n",
    "model.add(bottleneck)\n",
    "model.add(Dense(50, activation='softmax'))  #output has to be dimension 50 since output was 50\n",
    "\n",
    "#model.add(Embedding(vocab_size, 8, input_length=max_length))\n",
    "#model.add(Flatten())\n",
    "#model.add(Dense(1, activation='sigmoid'))\n",
    "#compile the model\n",
    "\n",
    "model.compile(optimizer='adam', loss='binary_crossentropy',metrics=['acc'])\n",
    "#sumarise the model\n",
    "print(model.summary())\n",
    "\n",
    "#fit the model\n",
    "model.fit(onehotlabels_x, onehotlabels_y, epochs=25, verbose=1)"
   ]
  },
  {
   "cell_type": "code",
   "execution_count": 37,
   "metadata": {},
   "outputs": [
    {
     "name": "stdout",
     "output_type": "stream",
     "text": [
      "[[0.         0.4969879 ]\n",
      " [0.         0.00333944]\n",
      " [0.03422897 0.22597976]\n",
      " [0.         0.19172534]]\n"
     ]
    }
   ],
   "source": [
    "\n",
    "model = Sequential()\n",
    "model.add(input)\n",
    "model.add(bottleneck)  #reuse already trained layers\n",
    "model.compile(optimizer=Adam(lr=0.001), loss='binary_crossentropy', metrics=['acc'])\n",
    "\n",
    "test = model.predict(oh_enc)   #the previous 5 word sentence\n",
    "##we can perform arithmetic on word embeddings\n",
    "print(test)  #sd representation of the words\n"
   ]
  },
  {
   "cell_type": "code",
   "execution_count": 41,
   "metadata": {
    "scrolled": true
   },
   "outputs": [
    {
     "name": "stdout",
     "output_type": "stream",
     "text": [
      "[-0.06845795  0.23675372]\n"
     ]
    }
   ],
   "source": [
    "#define docs\n",
    "print(test[0,:]-test[2,:]+test[3,:]-test[2,:])  #king-man+woman ~= queen"
   ]
  },
  {
   "cell_type": "markdown",
   "metadata": {},
   "source": [
    "### Sentiment Text Classification with Keras pt2,\n",
    "#### classify wheether docmunet is positive or negtaive"
   ]
  },
  {
   "cell_type": "code",
   "execution_count": 42,
   "metadata": {},
   "outputs": [
    {
     "data": {
      "text/plain": [
       "array([[764, 656, 434, 322,  30],\n",
       "       [424, 974, 742, 244, 583],\n",
       "       [827, 457, 620,   7, 357]])"
      ]
     },
     "execution_count": 42,
     "metadata": {},
     "output_type": "execute_result"
    }
   ],
   "source": [
    "model = Sequential()\n",
    "model.add(Embedding(1000,3,input_length=5))  #create low-dime represntion for is \n",
    "model.compile(optimizer='rmsprop', loss= 'mse')\n",
    "\n",
    "input_array = numpy.random.randint(1000,size=(3,5))\n",
    "input_array"
   ]
  },
  {
   "cell_type": "code",
   "execution_count": 43,
   "metadata": {},
   "outputs": [
    {
     "data": {
      "text/plain": [
       "(3, 5, 3)"
      ]
     },
     "execution_count": 43,
     "metadata": {},
     "output_type": "execute_result"
    }
   ],
   "source": [
    "output_array = model.predict(input_array)\n",
    "output_array.shape #3D tensor, the first element is a sentence and each word has 3-dimension "
   ]
  },
  {
   "cell_type": "code",
   "execution_count": 45,
   "metadata": {},
   "outputs": [],
   "source": [
    "#define documents\n",
    "\n",
    "docs = ['Well done!',\n",
    "       'Good Work',\n",
    "       'Great effort',\n",
    "       'nice work',\n",
    "       'Excellent',\n",
    "       'weak',\n",
    "       'poor work',\n",
    "       'Poor Effort!',\n",
    "       'not good','Could have done better.']\n",
    "#define class labels\n",
    "labels = [1,1,1,1,1,0,0,0,0,0]"
   ]
  },
  {
   "cell_type": "code",
   "execution_count": 46,
   "metadata": {},
   "outputs": [
    {
     "name": "stdout",
     "output_type": "stream",
     "text": [
      "[[24, 23], [29, 5], [18, 6], [10, 5], [10], [38], [23, 5], [23, 6], [15, 29], [24, 46, 23, 32]]\n"
     ]
    }
   ],
   "source": [
    "#ecnode the documents as integers\n",
    "vocab_size = 50\n",
    "encoded_docs = [one_hot(d,vocab_size) for d in docs]\n",
    "print(encoded_docs)"
   ]
  },
  {
   "cell_type": "code",
   "execution_count": 47,
   "metadata": {
    "scrolled": true
   },
   "outputs": [
    {
     "name": "stdout",
     "output_type": "stream",
     "text": [
      "[[24 23  0  0]\n",
      " [29  5  0  0]\n",
      " [18  6  0  0]\n",
      " [10  5  0  0]\n",
      " [10  0  0  0]\n",
      " [38  0  0  0]\n",
      " [23  5  0  0]\n",
      " [23  6  0  0]\n",
      " [15 29  0  0]\n",
      " [24 46 23 32]]\n"
     ]
    }
   ],
   "source": [
    "##padding\n",
    "max_len = 4  #the longest sentence has 4\n",
    "padded_docs = pad_sequences(encoded_docs, maxlen=max_len, padding='post')\n",
    "print(padded_docs)"
   ]
  },
  {
   "cell_type": "code",
   "execution_count": 48,
   "metadata": {
    "scrolled": true
   },
   "outputs": [
    {
     "name": "stdout",
     "output_type": "stream",
     "text": [
      "_________________________________________________________________\n",
      "Layer (type)                 Output Shape              Param #   \n",
      "=================================================================\n",
      "embedding_2 (Embedding)      (None, 4, 8)              400       \n",
      "_________________________________________________________________\n",
      "flatten_1 (Flatten)          (None, 32)                0         \n",
      "_________________________________________________________________\n",
      "dense_7 (Dense)              (None, 1)                 33        \n",
      "=================================================================\n",
      "Total params: 433\n",
      "Trainable params: 433\n",
      "Non-trainable params: 0\n",
      "_________________________________________________________________\n",
      "None\n"
     ]
    }
   ],
   "source": [
    "model = Sequential()\n",
    "\n",
    "model.add(Embedding(vocab_size,8, input_length=max_len))\n",
    "model.add(Flatten())   #unroll 3d tensor into 1-d \n",
    "model.add(Dense(1,activation='sigmoid'))\n",
    "\n",
    "#compile the model\n",
    "\n",
    "model.compile(optimizer='adam', loss='binary_crossentropy', metrics=['acc'])\n",
    "\n",
    "print(model.summary())"
   ]
  },
  {
   "cell_type": "code",
   "execution_count": 49,
   "metadata": {},
   "outputs": [
    {
     "name": "stdout",
     "output_type": "stream",
     "text": [
      "Accuracy:  80.0000011920929\n"
     ]
    }
   ],
   "source": [
    "#fit model\n",
    "model.fit(padded_docs, labels, epochs=20, verbose=0)\n",
    "#evaluate model\n",
    "loss,accuracy = model.evaluate(padded_docs, labels,verbose=0)\n",
    "\n",
    "print('Accuracy: ', (accuracy*100))"
   ]
  },
  {
   "cell_type": "code",
   "execution_count": null,
   "metadata": {},
   "outputs": [],
   "source": []
  }
 ],
 "metadata": {
  "kernelspec": {
   "display_name": "Python 3",
   "language": "python",
   "name": "python3"
  },
  "language_info": {
   "codemirror_mode": {
    "name": "ipython",
    "version": 3
   },
   "file_extension": ".py",
   "mimetype": "text/x-python",
   "name": "python",
   "nbconvert_exporter": "python",
   "pygments_lexer": "ipython3",
   "version": "3.6.5rc1"
  }
 },
 "nbformat": 4,
 "nbformat_minor": 2
}
